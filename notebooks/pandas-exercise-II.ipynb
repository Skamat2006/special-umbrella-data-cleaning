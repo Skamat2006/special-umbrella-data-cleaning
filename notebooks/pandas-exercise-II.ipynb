{
 "cells": [
  {
   "cell_type": "markdown",
   "metadata": {},
   "source": [
    "# Pandas Exercise II"
   ]
  },
  {
   "cell_type": "code",
   "execution_count": 23,
   "metadata": {
    "inputHidden": false,
    "outputHidden": false
   },
   "outputs": [],
   "source": [
    "import pandas as pd"
   ]
  },
  {
   "cell_type": "markdown",
   "metadata": {},
   "source": [
    "First, we will load the dataset from `data/AAPL.csv` into a DataFrame."
   ]
  },
  {
   "cell_type": "code",
   "execution_count": 24,
   "metadata": {},
   "outputs": [
    {
     "data": {
      "text/html": [
       "<div>\n",
       "<style scoped>\n",
       "    .dataframe tbody tr th:only-of-type {\n",
       "        vertical-align: middle;\n",
       "    }\n",
       "\n",
       "    .dataframe tbody tr th {\n",
       "        vertical-align: top;\n",
       "    }\n",
       "\n",
       "    .dataframe thead th {\n",
       "        text-align: right;\n",
       "    }\n",
       "</style>\n",
       "<table border=\"1\" class=\"dataframe\">\n",
       "  <thead>\n",
       "    <tr style=\"text-align: right;\">\n",
       "      <th></th>\n",
       "      <th>Date</th>\n",
       "      <th>Open</th>\n",
       "      <th>High</th>\n",
       "      <th>Low</th>\n",
       "      <th>Close</th>\n",
       "      <th>Adj Close</th>\n",
       "      <th>Volume</th>\n",
       "    </tr>\n",
       "  </thead>\n",
       "  <tbody>\n",
       "    <tr>\n",
       "      <th>0</th>\n",
       "      <td>2015-06-30</td>\n",
       "      <td>125.570000</td>\n",
       "      <td>126.120003</td>\n",
       "      <td>124.860001</td>\n",
       "      <td>125.430000</td>\n",
       "      <td>115.597382</td>\n",
       "      <td>44370700</td>\n",
       "    </tr>\n",
       "    <tr>\n",
       "      <th>1</th>\n",
       "      <td>2015-07-01</td>\n",
       "      <td>126.900002</td>\n",
       "      <td>126.940002</td>\n",
       "      <td>125.989998</td>\n",
       "      <td>126.599998</td>\n",
       "      <td>116.675667</td>\n",
       "      <td>30238800</td>\n",
       "    </tr>\n",
       "    <tr>\n",
       "      <th>2</th>\n",
       "      <td>2015-07-02</td>\n",
       "      <td>126.430000</td>\n",
       "      <td>126.690002</td>\n",
       "      <td>125.769997</td>\n",
       "      <td>126.440002</td>\n",
       "      <td>116.528198</td>\n",
       "      <td>27211000</td>\n",
       "    </tr>\n",
       "    <tr>\n",
       "      <th>3</th>\n",
       "      <td>2015-07-06</td>\n",
       "      <td>124.940002</td>\n",
       "      <td>126.230003</td>\n",
       "      <td>124.849998</td>\n",
       "      <td>126.000000</td>\n",
       "      <td>116.122704</td>\n",
       "      <td>28060400</td>\n",
       "    </tr>\n",
       "    <tr>\n",
       "      <th>4</th>\n",
       "      <td>2015-07-07</td>\n",
       "      <td>125.889999</td>\n",
       "      <td>126.150002</td>\n",
       "      <td>123.769997</td>\n",
       "      <td>125.690002</td>\n",
       "      <td>115.837006</td>\n",
       "      <td>46946800</td>\n",
       "    </tr>\n",
       "  </tbody>\n",
       "</table>\n",
       "</div>"
      ],
      "text/plain": [
       "         Date        Open        High         Low       Close   Adj Close  \\\n",
       "0  2015-06-30  125.570000  126.120003  124.860001  125.430000  115.597382   \n",
       "1  2015-07-01  126.900002  126.940002  125.989998  126.599998  116.675667   \n",
       "2  2015-07-02  126.430000  126.690002  125.769997  126.440002  116.528198   \n",
       "3  2015-07-06  124.940002  126.230003  124.849998  126.000000  116.122704   \n",
       "4  2015-07-07  125.889999  126.150002  123.769997  125.690002  115.837006   \n",
       "\n",
       "     Volume  \n",
       "0  44370700  \n",
       "1  30238800  \n",
       "2  27211000  \n",
       "3  28060400  \n",
       "4  46946800  "
      ]
     },
     "execution_count": 24,
     "metadata": {},
     "output_type": "execute_result"
    }
   ],
   "source": [
    "df = pd.read_csv('../data/AAPL.csv')\n",
    "df.head()"
   ]
  },
  {
   "cell_type": "markdown",
   "metadata": {},
   "source": [
    "This data, in its raw format, is the same as that which can be retrieved from a number of financial websites.\n",
    "\n",
    "Before starting the exercise, let's add some additional data columns, calculated from the raw data. Don't worry if you aren't familiar with the methods used in the following cell."
   ]
  },
  {
   "cell_type": "code",
   "execution_count": 25,
   "metadata": {},
   "outputs": [],
   "source": [
    "df['Date'] = pd.to_datetime(df['Date'])\n",
    "df['Year'] = df['Date'].dt.year\n",
    "df['Month'] = df['Date'].dt.month\n",
    "df['Day'] = df['Date'].dt.day\n",
    "df['Weekday'] = df['Date'].dt.day_name()\n",
    "df['Change %'] = (df['Adj Close'].pct_change() * 100)"
   ]
  },
  {
   "cell_type": "code",
   "execution_count": 26,
   "metadata": {},
   "outputs": [
    {
     "data": {
      "text/html": [
       "<div>\n",
       "<style scoped>\n",
       "    .dataframe tbody tr th:only-of-type {\n",
       "        vertical-align: middle;\n",
       "    }\n",
       "\n",
       "    .dataframe tbody tr th {\n",
       "        vertical-align: top;\n",
       "    }\n",
       "\n",
       "    .dataframe thead th {\n",
       "        text-align: right;\n",
       "    }\n",
       "</style>\n",
       "<table border=\"1\" class=\"dataframe\">\n",
       "  <thead>\n",
       "    <tr style=\"text-align: right;\">\n",
       "      <th></th>\n",
       "      <th>Date</th>\n",
       "      <th>Open</th>\n",
       "      <th>High</th>\n",
       "      <th>Low</th>\n",
       "      <th>Close</th>\n",
       "      <th>Adj Close</th>\n",
       "      <th>Volume</th>\n",
       "      <th>Year</th>\n",
       "      <th>Month</th>\n",
       "      <th>Day</th>\n",
       "      <th>Weekday</th>\n",
       "      <th>Change %</th>\n",
       "    </tr>\n",
       "  </thead>\n",
       "  <tbody>\n",
       "    <tr>\n",
       "      <th>0</th>\n",
       "      <td>2015-06-30</td>\n",
       "      <td>125.570000</td>\n",
       "      <td>126.120003</td>\n",
       "      <td>124.860001</td>\n",
       "      <td>125.430000</td>\n",
       "      <td>115.597382</td>\n",
       "      <td>44370700</td>\n",
       "      <td>2015</td>\n",
       "      <td>6</td>\n",
       "      <td>30</td>\n",
       "      <td>Tuesday</td>\n",
       "      <td>NaN</td>\n",
       "    </tr>\n",
       "    <tr>\n",
       "      <th>1</th>\n",
       "      <td>2015-07-01</td>\n",
       "      <td>126.900002</td>\n",
       "      <td>126.940002</td>\n",
       "      <td>125.989998</td>\n",
       "      <td>126.599998</td>\n",
       "      <td>116.675667</td>\n",
       "      <td>30238800</td>\n",
       "      <td>2015</td>\n",
       "      <td>7</td>\n",
       "      <td>1</td>\n",
       "      <td>Wednesday</td>\n",
       "      <td>0.932794</td>\n",
       "    </tr>\n",
       "    <tr>\n",
       "      <th>2</th>\n",
       "      <td>2015-07-02</td>\n",
       "      <td>126.430000</td>\n",
       "      <td>126.690002</td>\n",
       "      <td>125.769997</td>\n",
       "      <td>126.440002</td>\n",
       "      <td>116.528198</td>\n",
       "      <td>27211000</td>\n",
       "      <td>2015</td>\n",
       "      <td>7</td>\n",
       "      <td>2</td>\n",
       "      <td>Thursday</td>\n",
       "      <td>-0.126392</td>\n",
       "    </tr>\n",
       "    <tr>\n",
       "      <th>3</th>\n",
       "      <td>2015-07-06</td>\n",
       "      <td>124.940002</td>\n",
       "      <td>126.230003</td>\n",
       "      <td>124.849998</td>\n",
       "      <td>126.000000</td>\n",
       "      <td>116.122704</td>\n",
       "      <td>28060400</td>\n",
       "      <td>2015</td>\n",
       "      <td>7</td>\n",
       "      <td>6</td>\n",
       "      <td>Monday</td>\n",
       "      <td>-0.347979</td>\n",
       "    </tr>\n",
       "    <tr>\n",
       "      <th>4</th>\n",
       "      <td>2015-07-07</td>\n",
       "      <td>125.889999</td>\n",
       "      <td>126.150002</td>\n",
       "      <td>123.769997</td>\n",
       "      <td>125.690002</td>\n",
       "      <td>115.837006</td>\n",
       "      <td>46946800</td>\n",
       "      <td>2015</td>\n",
       "      <td>7</td>\n",
       "      <td>7</td>\n",
       "      <td>Tuesday</td>\n",
       "      <td>-0.246031</td>\n",
       "    </tr>\n",
       "  </tbody>\n",
       "</table>\n",
       "</div>"
      ],
      "text/plain": [
       "        Date        Open        High         Low       Close   Adj Close  \\\n",
       "0 2015-06-30  125.570000  126.120003  124.860001  125.430000  115.597382   \n",
       "1 2015-07-01  126.900002  126.940002  125.989998  126.599998  116.675667   \n",
       "2 2015-07-02  126.430000  126.690002  125.769997  126.440002  116.528198   \n",
       "3 2015-07-06  124.940002  126.230003  124.849998  126.000000  116.122704   \n",
       "4 2015-07-07  125.889999  126.150002  123.769997  125.690002  115.837006   \n",
       "\n",
       "     Volume  Year  Month  Day    Weekday  Change %  \n",
       "0  44370700  2015      6   30    Tuesday       NaN  \n",
       "1  30238800  2015      7    1  Wednesday  0.932794  \n",
       "2  27211000  2015      7    2   Thursday -0.126392  \n",
       "3  28060400  2015      7    6     Monday -0.347979  \n",
       "4  46946800  2015      7    7    Tuesday -0.246031  "
      ]
     },
     "execution_count": 26,
     "metadata": {},
     "output_type": "execute_result"
    }
   ],
   "source": [
    "df.head()"
   ]
  },
  {
   "cell_type": "markdown",
   "metadata": {},
   "source": [
    "**Note**: Avoid modifying `df` itself in the subsequent questions."
   ]
  },
  {
   "cell_type": "markdown",
   "metadata": {},
   "source": [
    "#### Store the mean of the values in the `Adj Close` column in a variable called `mean_adj_close`"
   ]
  },
  {
   "cell_type": "code",
   "execution_count": 28,
   "metadata": {},
   "outputs": [
    {
     "data": {
      "text/plain": [
       "np.float64(167.04975667513898)"
      ]
     },
     "execution_count": 28,
     "metadata": {},
     "output_type": "execute_result"
    }
   ],
   "source": [
    "# Add your code here\n",
    "mean_adj_close = df['Adj Close'].mean()\n",
    "mean_adj_close "
   ]
  },
  {
   "cell_type": "markdown",
   "metadata": {},
   "source": [
    "#### Store the minimum value in the `Low` column in a variable called `min_low`"
   ]
  },
  {
   "cell_type": "code",
   "execution_count": 30,
   "metadata": {},
   "outputs": [
    {
     "data": {
      "text/plain": [
       "np.float64(89.470001)"
      ]
     },
     "execution_count": 30,
     "metadata": {},
     "output_type": "execute_result"
    }
   ],
   "source": [
    "# Add your code here\n",
    "min_low = df['Low'].min()\n",
    "min_low"
   ]
  },
  {
   "cell_type": "markdown",
   "metadata": {},
   "source": [
    "#### Store the maximum value in the `High` column in a variable called `max_high`"
   ]
  },
  {
   "cell_type": "code",
   "execution_count": 31,
   "metadata": {},
   "outputs": [
    {
     "data": {
      "text/plain": [
       "np.float64(372.380005)"
      ]
     },
     "execution_count": 31,
     "metadata": {},
     "output_type": "execute_result"
    }
   ],
   "source": [
    "# Add your code here\n",
    "max_high = df['High'].max()\n",
    "max_high"
   ]
  },
  {
   "cell_type": "markdown",
   "metadata": {},
   "source": [
    "#### Store the difference between `min_low` and `max_high` in a variable called `price_range`"
   ]
  },
  {
   "cell_type": "code",
   "execution_count": 32,
   "metadata": {},
   "outputs": [
    {
     "data": {
      "text/plain": [
       "np.float64(282.91000399999996)"
      ]
     },
     "execution_count": 32,
     "metadata": {},
     "output_type": "execute_result"
    }
   ],
   "source": [
    "# Add your code here\n",
    "price_range = max_high - min_low\n",
    "price_range"
   ]
  },
  {
   "cell_type": "markdown",
   "metadata": {},
   "source": [
    "#### Store how many rows are there in the DataFrame in a variable called `entries`"
   ]
  },
  {
   "cell_type": "code",
   "execution_count": 33,
   "metadata": {},
   "outputs": [
    {
     "data": {
      "text/plain": [
       "1259"
      ]
     },
     "execution_count": 33,
     "metadata": {},
     "output_type": "execute_result"
    }
   ],
   "source": [
    "# Add your code here\n",
    "entries = len(df)\n",
    "entries"
   ]
  },
  {
   "cell_type": "markdown",
   "metadata": {},
   "source": [
    "#### Store in a variable called `positive_days`: how many days (i.e. number of rows) was `Change %` greater than zero"
   ]
  },
  {
   "cell_type": "code",
   "execution_count": 34,
   "metadata": {},
   "outputs": [
    {
     "data": {
      "text/plain": [
       "671"
      ]
     },
     "execution_count": 34,
     "metadata": {},
     "output_type": "execute_result"
    }
   ],
   "source": [
    "# Add your code here\n",
    "positive_days = len(df[df['Change %'] > 0])\n",
    "positive_days"
   ]
  },
  {
   "cell_type": "markdown",
   "metadata": {},
   "source": [
    "#### Store in a variable called `days_higher`: how many days (i.e. number of rows) has `Adj Close` been greater than the value in the final row?"
   ]
  },
  {
   "cell_type": "code",
   "execution_count": 35,
   "metadata": {},
   "outputs": [
    {
     "data": {
      "text/plain": [
       "2"
      ]
     },
     "execution_count": 35,
     "metadata": {},
     "output_type": "execute_result"
    }
   ],
   "source": [
    "# Add your code here\n",
    "final_day = df.loc[len(df) - 1, 'Adj Close']\n",
    "\n",
    "days_higher = len(df[df['Adj Close'] > final_day])\n",
    "days_higher"
   ]
  },
  {
   "cell_type": "markdown",
   "metadata": {},
   "source": [
    "## Dataset sorting and filtering"
   ]
  },
  {
   "cell_type": "markdown",
   "metadata": {},
   "source": [
    "#### Create a new DataFrame called `df_2020` which is the same as `df` but contains only the rows where `Year == 2020`"
   ]
  },
  {
   "cell_type": "code",
   "execution_count": 36,
   "metadata": {},
   "outputs": [],
   "source": [
    "# Add your code here\n",
    "df_2020 = df[df['Year'] == 2020]\n",
    "df_2020.set_index('Date', inplace=True)"
   ]
  },
  {
   "cell_type": "markdown",
   "metadata": {},
   "source": [
    "#### Continuing using `df_2020`: Store in a variable called `mean_change_mon_2020` the calculation of the `.mean()` of `Change %` for entries where `Weekday == Monday`"
   ]
  },
  {
   "cell_type": "code",
   "execution_count": 37,
   "metadata": {},
   "outputs": [],
   "source": [
    "# Add your code here\n",
    "df_mon = df_2020[df_2020['Weekday'] == 'Monday']\n",
    "mean_change_mon_2020 = df_mon['Change %'].mean()"
   ]
  },
  {
   "cell_type": "markdown",
   "metadata": {},
   "source": [
    "#### When you have calculated `mean_change_mon_2020`, uncomment and run the cell below to view its value:"
   ]
  },
  {
   "cell_type": "code",
   "execution_count": 38,
   "metadata": {},
   "outputs": [
    {
     "data": {
      "text/plain": [
       "np.float64(0.2918877852311579)"
      ]
     },
     "execution_count": 38,
     "metadata": {},
     "output_type": "execute_result"
    }
   ],
   "source": [
    "mean_change_mon_2020\n"
   ]
  },
  {
   "cell_type": "markdown",
   "metadata": {},
   "source": [
    "#### Calculate the sum of the `Volume` column in `df_2020` for entries where `Month == 3` and store the value in a variable called `total_volume_march_2020`"
   ]
  },
  {
   "cell_type": "code",
   "execution_count": 39,
   "metadata": {},
   "outputs": [],
   "source": [
    "# Add your code here\n",
    "total_volume_march_2020 = df_2020[df_2020['Month'] == 3]['Volume'].sum()"
   ]
  },
  {
   "cell_type": "markdown",
   "metadata": {},
   "source": [
    "#### When you have calculated `total_volume_march_2020`, uncomment and run the cell below to view its value"
   ]
  },
  {
   "cell_type": "code",
   "execution_count": 40,
   "metadata": {},
   "outputs": [
    {
     "data": {
      "text/plain": [
       "np.int64(1570018100)"
      ]
     },
     "execution_count": 40,
     "metadata": {},
     "output_type": "execute_result"
    }
   ],
   "source": [
    "total_volume_march_2020"
   ]
  },
  {
   "cell_type": "markdown",
   "metadata": {},
   "source": [
    "#### Using `df_2020`, determine when `Adj Close` was the highest, store the value in a variable called `year_high_timestamp`\n",
    "\n",
    "- look at the [documentation](https://pandas.pydata.org/pandas-docs/stable/reference/api/pandas.DataFrame.idxmax.html) for the `.idxmax()` method and use it for this task "
   ]
  },
  {
   "cell_type": "code",
   "execution_count": 41,
   "metadata": {},
   "outputs": [],
   "source": [
    "# Add your code here\n",
    "year_high_timestamp = df_2020['Adj Close'].idxmax()"
   ]
  },
  {
   "cell_type": "markdown",
   "metadata": {},
   "source": [
    "#### Create a DataFrame called `df_top_10` which contains the 10 entries from `df` with the highest positive `Change %` values.\n",
    "- consider all entries in `df` rather than `df_2020`\n",
    "- remember to avoid modifying `df` or any other stored DataFrames \n",
    "- `.copy()` can be used to copy a DataFrame to a new variable"
   ]
  },
  {
   "cell_type": "code",
   "execution_count": 42,
   "metadata": {},
   "outputs": [],
   "source": [
    "# Add your code here\n",
    "df_top_10 = df.copy()\n",
    "df_top_10 = df_top_10.sort_values(by='Change %', ascending=False).head(10)"
   ]
  },
  {
   "cell_type": "markdown",
   "metadata": {},
   "source": [
    "#### How many entries in `df_top_10` were *not* on a Monday? Store the value in a variable called `top_10_not_mon`"
   ]
  },
  {
   "cell_type": "code",
   "execution_count": 43,
   "metadata": {},
   "outputs": [],
   "source": [
    "# Add your code here\n",
    "top_10_not_mon = len(df_top_10[df_top_10['Weekday'] != 'Monday'])"
   ]
  },
  {
   "cell_type": "markdown",
   "metadata": {},
   "source": [
    "#### When you have calculate `top_10_not_mon`, uncomment and run the cell below to inspect it"
   ]
  },
  {
   "cell_type": "code",
   "execution_count": 44,
   "metadata": {},
   "outputs": [
    {
     "data": {
      "text/plain": [
       "8"
      ]
     },
     "execution_count": 44,
     "metadata": {},
     "output_type": "execute_result"
    }
   ],
   "source": [
    "top_10_not_mon"
   ]
  },
  {
   "cell_type": "markdown",
   "metadata": {},
   "source": [
    "## Dataset manipulation"
   ]
  },
  {
   "cell_type": "markdown",
   "metadata": {},
   "source": [
    "#### Copy the original `df` dataFrame and call the new dataframe `df_var`.  Give it a new column called `Variation %` equal to ((`High` - `Low`) / `Close`) * 100.\n",
    "- be sure to use `Close` rather than `Adj Close` in this question\n",
    "- do not modify `df` but create a copy: `df_var = df.copy()`"
   ]
  },
  {
   "cell_type": "code",
   "execution_count": 45,
   "metadata": {
    "scrolled": true
   },
   "outputs": [],
   "source": [
    "# Add your code here\n",
    "df_var = df.copy()\n",
    "df_var['Variation %'] = ((df_var['High'] - df_var['Low']) / df_var['Close']) * 100"
   ]
  },
  {
   "cell_type": "markdown",
   "metadata": {},
   "source": [
    "#### Once you have calculated `df_var`, you can uncomment and run the cell below to inspect it"
   ]
  },
  {
   "cell_type": "code",
   "execution_count": 46,
   "metadata": {},
   "outputs": [
    {
     "data": {
      "text/html": [
       "<div>\n",
       "<style scoped>\n",
       "    .dataframe tbody tr th:only-of-type {\n",
       "        vertical-align: middle;\n",
       "    }\n",
       "\n",
       "    .dataframe tbody tr th {\n",
       "        vertical-align: top;\n",
       "    }\n",
       "\n",
       "    .dataframe thead th {\n",
       "        text-align: right;\n",
       "    }\n",
       "</style>\n",
       "<table border=\"1\" class=\"dataframe\">\n",
       "  <thead>\n",
       "    <tr style=\"text-align: right;\">\n",
       "      <th></th>\n",
       "      <th>Date</th>\n",
       "      <th>Open</th>\n",
       "      <th>High</th>\n",
       "      <th>Low</th>\n",
       "      <th>Close</th>\n",
       "      <th>Adj Close</th>\n",
       "      <th>Volume</th>\n",
       "      <th>Year</th>\n",
       "      <th>Month</th>\n",
       "      <th>Day</th>\n",
       "      <th>Weekday</th>\n",
       "      <th>Change %</th>\n",
       "      <th>Variation %</th>\n",
       "    </tr>\n",
       "  </thead>\n",
       "  <tbody>\n",
       "    <tr>\n",
       "      <th>0</th>\n",
       "      <td>2015-06-30</td>\n",
       "      <td>125.570000</td>\n",
       "      <td>126.120003</td>\n",
       "      <td>124.860001</td>\n",
       "      <td>125.430000</td>\n",
       "      <td>115.597382</td>\n",
       "      <td>44370700</td>\n",
       "      <td>2015</td>\n",
       "      <td>6</td>\n",
       "      <td>30</td>\n",
       "      <td>Tuesday</td>\n",
       "      <td>NaN</td>\n",
       "      <td>1.004546</td>\n",
       "    </tr>\n",
       "    <tr>\n",
       "      <th>1</th>\n",
       "      <td>2015-07-01</td>\n",
       "      <td>126.900002</td>\n",
       "      <td>126.940002</td>\n",
       "      <td>125.989998</td>\n",
       "      <td>126.599998</td>\n",
       "      <td>116.675667</td>\n",
       "      <td>30238800</td>\n",
       "      <td>2015</td>\n",
       "      <td>7</td>\n",
       "      <td>1</td>\n",
       "      <td>Wednesday</td>\n",
       "      <td>0.932794</td>\n",
       "      <td>0.750398</td>\n",
       "    </tr>\n",
       "    <tr>\n",
       "      <th>2</th>\n",
       "      <td>2015-07-02</td>\n",
       "      <td>126.430000</td>\n",
       "      <td>126.690002</td>\n",
       "      <td>125.769997</td>\n",
       "      <td>126.440002</td>\n",
       "      <td>116.528198</td>\n",
       "      <td>27211000</td>\n",
       "      <td>2015</td>\n",
       "      <td>7</td>\n",
       "      <td>2</td>\n",
       "      <td>Thursday</td>\n",
       "      <td>-0.126392</td>\n",
       "      <td>0.727622</td>\n",
       "    </tr>\n",
       "    <tr>\n",
       "      <th>3</th>\n",
       "      <td>2015-07-06</td>\n",
       "      <td>124.940002</td>\n",
       "      <td>126.230003</td>\n",
       "      <td>124.849998</td>\n",
       "      <td>126.000000</td>\n",
       "      <td>116.122704</td>\n",
       "      <td>28060400</td>\n",
       "      <td>2015</td>\n",
       "      <td>7</td>\n",
       "      <td>6</td>\n",
       "      <td>Monday</td>\n",
       "      <td>-0.347979</td>\n",
       "      <td>1.095242</td>\n",
       "    </tr>\n",
       "    <tr>\n",
       "      <th>4</th>\n",
       "      <td>2015-07-07</td>\n",
       "      <td>125.889999</td>\n",
       "      <td>126.150002</td>\n",
       "      <td>123.769997</td>\n",
       "      <td>125.690002</td>\n",
       "      <td>115.837006</td>\n",
       "      <td>46946800</td>\n",
       "      <td>2015</td>\n",
       "      <td>7</td>\n",
       "      <td>7</td>\n",
       "      <td>Tuesday</td>\n",
       "      <td>-0.246031</td>\n",
       "      <td>1.893552</td>\n",
       "    </tr>\n",
       "  </tbody>\n",
       "</table>\n",
       "</div>"
      ],
      "text/plain": [
       "        Date        Open        High         Low       Close   Adj Close  \\\n",
       "0 2015-06-30  125.570000  126.120003  124.860001  125.430000  115.597382   \n",
       "1 2015-07-01  126.900002  126.940002  125.989998  126.599998  116.675667   \n",
       "2 2015-07-02  126.430000  126.690002  125.769997  126.440002  116.528198   \n",
       "3 2015-07-06  124.940002  126.230003  124.849998  126.000000  116.122704   \n",
       "4 2015-07-07  125.889999  126.150002  123.769997  125.690002  115.837006   \n",
       "\n",
       "     Volume  Year  Month  Day    Weekday  Change %  Variation %  \n",
       "0  44370700  2015      6   30    Tuesday       NaN     1.004546  \n",
       "1  30238800  2015      7    1  Wednesday  0.932794     0.750398  \n",
       "2  27211000  2015      7    2   Thursday -0.126392     0.727622  \n",
       "3  28060400  2015      7    6     Monday -0.347979     1.095242  \n",
       "4  46946800  2015      7    7    Tuesday -0.246031     1.893552  "
      ]
     },
     "execution_count": 46,
     "metadata": {},
     "output_type": "execute_result"
    }
   ],
   "source": [
    "df_var.head()"
   ]
  },
  {
   "cell_type": "code",
   "execution_count": null,
   "metadata": {},
   "outputs": [],
   "source": []
  }
 ],
 "metadata": {
  "kernel_info": {
   "name": "python3"
  },
  "kernelspec": {
   "display_name": "Python 3",
   "language": "python",
   "name": "python3"
  },
  "language_info": {
   "codemirror_mode": {
    "name": "ipython",
    "version": 3
   },
   "file_extension": ".py",
   "mimetype": "text/x-python",
   "name": "python",
   "nbconvert_exporter": "python",
   "pygments_lexer": "ipython3",
   "version": "3.12.1"
  },
  "nteract": {
   "version": "0.15.0"
  }
 },
 "nbformat": 4,
 "nbformat_minor": 1
}
