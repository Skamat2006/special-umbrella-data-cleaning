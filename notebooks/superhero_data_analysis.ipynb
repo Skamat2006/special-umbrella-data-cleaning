{
 "cells": [
  {
   "cell_type": "markdown",
   "metadata": {},
   "source": [
    "## Data Analysis of the SuperHero Dataset\n",
    "\n",
    "### 1.0 Introduction\n",
    "We are analysing the superheroes data \n",
    "\n",
    "This cleaned_superhero_dataset.csv file was provided as part of a Data Analysis exercise, is originally from Kaggle, and contains information about various superheroes, including their origins and publishers."
   ]
  },
  {
   "cell_type": "markdown",
   "metadata": {},
   "source": [
    "### 2.1 Import necessary libraries to begin our analysis"
   ]
  },
  {
   "cell_type": "code",
   "execution_count": 2,
   "metadata": {},
   "outputs": [],
   "source": [
    "import pandas as pd # importing Pandas for data manipulation\n",
    "import matplotlib.pyplot as plt # importing Matplotlib for plotting\n",
    "import seaborn as sns # importing Seaborn for advanced visualizations\n",
    "\n",
    "sns.set_style('whitegrid') # setting the styles for seaborn plots"
   ]
  },
  {
   "cell_type": "markdown",
   "metadata": {},
   "source": [
    "### 2.2 Load the dataset into pandas DataFrame"
   ]
  },
  {
   "cell_type": "code",
   "execution_count": 5,
   "metadata": {},
   "outputs": [],
   "source": [
    "df = pd.read_csv('../data/superhero_dataset.csv') # Load the dataset"
   ]
  },
  {
   "cell_type": "markdown",
   "metadata": {},
   "source": [
    "### 3.1 Understand the Data Structure"
   ]
  },
  {
   "cell_type": "code",
   "execution_count": 6,
   "metadata": {},
   "outputs": [
    {
     "data": {
      "text/html": [
       "<div>\n",
       "<style scoped>\n",
       "    .dataframe tbody tr th:only-of-type {\n",
       "        vertical-align: middle;\n",
       "    }\n",
       "\n",
       "    .dataframe tbody tr th {\n",
       "        vertical-align: top;\n",
       "    }\n",
       "\n",
       "    .dataframe thead th {\n",
       "        text-align: right;\n",
       "    }\n",
       "</style>\n",
       "<table border=\"1\" class=\"dataframe\">\n",
       "  <thead>\n",
       "    <tr style=\"text-align: right;\">\n",
       "      <th></th>\n",
       "      <th>first_appeared_in_issue</th>\n",
       "      <th>name</th>\n",
       "      <th>origin</th>\n",
       "      <th>publisher</th>\n",
       "    </tr>\n",
       "  </thead>\n",
       "  <tbody>\n",
       "    <tr>\n",
       "      <th>0</th>\n",
       "      <td>The Legion of Super-Heroes</td>\n",
       "      <td>Lightning Lad</td>\n",
       "      <td>Alien</td>\n",
       "      <td>DC Comics</td>\n",
       "    </tr>\n",
       "    <tr>\n",
       "      <th>1</th>\n",
       "      <td>The Menace of Dream Girl!</td>\n",
       "      <td>Dream Girl</td>\n",
       "      <td>Alien</td>\n",
       "      <td>DC Comics</td>\n",
       "    </tr>\n",
       "    <tr>\n",
       "      <th>2</th>\n",
       "      <td>The War Between Supergirl and The Supermen Eme...</td>\n",
       "      <td>Brainiac 5</td>\n",
       "      <td>Alien</td>\n",
       "      <td>DC Comics</td>\n",
       "    </tr>\n",
       "    <tr>\n",
       "      <th>3</th>\n",
       "      <td>Hercules in the 20th Century!</td>\n",
       "      <td>Invisible Kid</td>\n",
       "      <td>Human</td>\n",
       "      <td>DC Comics</td>\n",
       "    </tr>\n",
       "    <tr>\n",
       "      <th>4</th>\n",
       "      <td>The War Between Supergirl and The Supermen Eme...</td>\n",
       "      <td>Phantom Girl</td>\n",
       "      <td>Alien</td>\n",
       "      <td>DC Comics</td>\n",
       "    </tr>\n",
       "  </tbody>\n",
       "</table>\n",
       "</div>"
      ],
      "text/plain": [
       "                             first_appeared_in_issue           name origin  \\\n",
       "0                         The Legion of Super-Heroes  Lightning Lad  Alien   \n",
       "1                          The Menace of Dream Girl!     Dream Girl  Alien   \n",
       "2  The War Between Supergirl and The Supermen Eme...     Brainiac 5  Alien   \n",
       "3                      Hercules in the 20th Century!  Invisible Kid  Human   \n",
       "4  The War Between Supergirl and The Supermen Eme...   Phantom Girl  Alien   \n",
       "\n",
       "   publisher  \n",
       "0  DC Comics  \n",
       "1  DC Comics  \n",
       "2  DC Comics  \n",
       "3  DC Comics  \n",
       "4  DC Comics  "
      ]
     },
     "execution_count": 6,
     "metadata": {},
     "output_type": "execute_result"
    }
   ],
   "source": [
    "df.head() # view the first few rows"
   ]
  },
  {
   "cell_type": "markdown",
   "metadata": {},
   "source": [
    "### 3.2 Getting quick overview of the data types"
   ]
  },
  {
   "cell_type": "code",
   "execution_count": 9,
   "metadata": {},
   "outputs": [
    {
     "data": {
      "text/plain": [
       "first_appeared_in_issue    object\n",
       "name                       object\n",
       "origin                     object\n",
       "publisher                  object\n",
       "dtype: object"
      ]
     },
     "execution_count": 9,
     "metadata": {},
     "output_type": "execute_result"
    }
   ],
   "source": [
    "df.dtypes"
   ]
  },
  {
   "cell_type": "markdown",
   "metadata": {},
   "source": [
    "### 3.3 Checking for presence of missing values"
   ]
  },
  {
   "cell_type": "code",
   "execution_count": null,
   "metadata": {},
   "outputs": [
    {
     "name": "stdout",
     "output_type": "stream",
     "text": [
      "<class 'pandas.core.frame.DataFrame'>\n",
      "RangeIndex: 45224 entries, 0 to 45223\n",
      "Data columns (total 4 columns):\n",
      " #   Column                   Non-Null Count  Dtype \n",
      "---  ------                   --------------  ----- \n",
      " 0   first_appeared_in_issue  35981 non-null  object\n",
      " 1   name                     45224 non-null  object\n",
      " 2   origin                   45224 non-null  object\n",
      " 3   publisher                45224 non-null  object\n",
      "dtypes: object(4)\n",
      "memory usage: 1.4+ MB\n"
     ]
    }
   ],
   "source": [
    "df.info() # check data types and missing values"
   ]
  },
  {
   "cell_type": "markdown",
   "metadata": {},
   "source": [
    "### 3.4  Basic descriptive statistics"
   ]
  },
  {
   "cell_type": "code",
   "execution_count": null,
   "metadata": {},
   "outputs": [
    {
     "data": {
      "text/html": [
       "<div>\n",
       "<style scoped>\n",
       "    .dataframe tbody tr th:only-of-type {\n",
       "        vertical-align: middle;\n",
       "    }\n",
       "\n",
       "    .dataframe tbody tr th {\n",
       "        vertical-align: top;\n",
       "    }\n",
       "\n",
       "    .dataframe thead th {\n",
       "        text-align: right;\n",
       "    }\n",
       "</style>\n",
       "<table border=\"1\" class=\"dataframe\">\n",
       "  <thead>\n",
       "    <tr style=\"text-align: right;\">\n",
       "      <th></th>\n",
       "      <th>first_appeared_in_issue</th>\n",
       "      <th>name</th>\n",
       "      <th>origin</th>\n",
       "      <th>publisher</th>\n",
       "    </tr>\n",
       "  </thead>\n",
       "  <tbody>\n",
       "    <tr>\n",
       "      <th>count</th>\n",
       "      <td>35981</td>\n",
       "      <td>45224</td>\n",
       "      <td>45224</td>\n",
       "      <td>45224</td>\n",
       "    </tr>\n",
       "    <tr>\n",
       "      <th>unique</th>\n",
       "      <td>17125</td>\n",
       "      <td>40342</td>\n",
       "      <td>10</td>\n",
       "      <td>580</td>\n",
       "    </tr>\n",
       "    <tr>\n",
       "      <th>top</th>\n",
       "      <td>Vol. 1</td>\n",
       "      <td>Mirage</td>\n",
       "      <td>Human</td>\n",
       "      <td>Marvel</td>\n",
       "    </tr>\n",
       "    <tr>\n",
       "      <th>freq</th>\n",
       "      <td>245</td>\n",
       "      <td>11</td>\n",
       "      <td>27561</td>\n",
       "      <td>10921</td>\n",
       "    </tr>\n",
       "  </tbody>\n",
       "</table>\n",
       "</div>"
      ],
      "text/plain": [
       "       first_appeared_in_issue    name origin publisher\n",
       "count                    35981   45224  45224     45224\n",
       "unique                   17125   40342     10       580\n",
       "top                     Vol. 1  Mirage  Human    Marvel\n",
       "freq                       245      11  27561     10921"
      ]
     },
     "execution_count": 8,
     "metadata": {},
     "output_type": "execute_result"
    }
   ],
   "source": [
    "df.describe() # getting summary statistics"
   ]
  },
  {
   "cell_type": "markdown",
   "metadata": {},
   "source": [
    "### 4.1 Data Cleaning - Indentify and handle missing data"
   ]
  },
  {
   "cell_type": "markdown",
   "metadata": {},
   "source": [
    "Check for missing Values and decide how to handle them"
   ]
  },
  {
   "cell_type": "code",
   "execution_count": 14,
   "metadata": {},
   "outputs": [
    {
     "data": {
      "text/plain": [
       "first_appeared_in_issue    9243\n",
       "name                          0\n",
       "origin                        0\n",
       "publisher                     0\n",
       "dtype: int64"
      ]
     },
     "execution_count": 14,
     "metadata": {},
     "output_type": "execute_result"
    }
   ],
   "source": [
    "df.isnull().sum() # Count missing values in each column"
   ]
  },
  {
   "cell_type": "code",
   "execution_count": null,
   "metadata": {},
   "outputs": [
    {
     "data": {
      "text/plain": [
       "array(['The Legion of Super-Heroes', 'The Menace of Dream Girl!',\n",
       "       \"The War Between Supergirl and The Supermen Emergency Squad! / Supergirl's Three Super Girl-Friends!\",\n",
       "       ..., 'Blow In The Wind',\n",
       "       'Fray Tormenta en: Enredado por una Hembra', 'Blood,Sweat,& Fears'],\n",
       "      shape=(17126,), dtype=object)"
      ]
     },
     "metadata": {},
     "output_type": "display_data"
    }
   ],
   "source": [
    "df['first_appeared_in_issue'].unique()\n"
   ]
  },
  {
   "cell_type": "code",
   "execution_count": 16,
   "metadata": {},
   "outputs": [
    {
     "data": {
      "text/plain": [
       "first_appeared_in_issue    20.438263\n",
       "name                        0.000000\n",
       "origin                      0.000000\n",
       "publisher                   0.000000\n",
       "dtype: float64"
      ]
     },
     "execution_count": 16,
     "metadata": {},
     "output_type": "execute_result"
    }
   ],
   "source": [
    "# Check the percentage of missing values\n",
    "(df.isnull().sum() / len(df)) * 100"
   ]
  },
  {
   "cell_type": "markdown",
   "metadata": {},
   "source": [
    "Deleting 20% of the rows would result in data loss, so decided to keep the empty fields to be unknown"
   ]
  },
  {
   "cell_type": "code",
   "execution_count": 18,
   "metadata": {},
   "outputs": [],
   "source": [
    "df['first_appeared_in_issue'] = df['first_appeared_in_issue'].fillna(\"Unknown\")\n"
   ]
  },
  {
   "cell_type": "markdown",
   "metadata": {},
   "source": [
    "### 4.2 Ensure Text Consistency"
   ]
  },
  {
   "cell_type": "markdown",
   "metadata": {},
   "source": [
    "Check For Unique Values"
   ]
  },
  {
   "cell_type": "code",
   "execution_count": null,
   "metadata": {},
   "outputs": [
    {
     "data": {
      "text/plain": [
       "array(['DC Comics', 'Disney', 'Malibu', 'Nintendo', 'AC Comics',\n",
       "       'Fiction House', 'Youthful', 'Harry A. Chesler/Dynamic',\n",
       "       'Fawcett Publications', 'Holyoke', 'Quality Comics',\n",
       "       'Magazine Enterprises', 'Eros Comix', 'Tatsunoko Production',\n",
       "       'Zenescope Entertainment', 'Non-Fictional', 'In the Public Domain',\n",
       "       'Comics Interview', 'SNK Playmore', 'Heroic Publishing', 'Top Cow',\n",
       "       'Skybound', 'Rebellion', 'Marvel', 'Hillman', 'Blackthorne',\n",
       "       'Avon', 'Valiant', 'Dark Horse Comics', 'First', 'Warp Graphics',\n",
       "       'Ediciones La Cúpula S.L.', 'Acclaim', 'Vertigo',\n",
       "       'Dynamite Entertainment', 'Archie Comics', 'Chaos! Comics',\n",
       "       'Fantagraphics', 'Shadowline', 'Wildstorm', 'D.C. Thomson & Co.',\n",
       "       'Bell Features', 'Crossgen', 'Coffin Comics', 'Avatar Press',\n",
       "       'Harvey', 'Image', 'Bongo', 'United Feature Syndicate', 'Gold Key',\n",
       "       'Namco Bandai', 'King Features Syndicate', 'Topps Comics',\n",
       "       'Editoriale Mercury', 'IDW Publishing', 'Amerotica',\n",
       "       'SLG Publishing', 'Newspaper: Funny Pages', 'Antarctic Press',\n",
       "       'Eclipse', 'Fox Comics (US)', 'Dell', 'Titan Comics',\n",
       "       'Superior Publishers Limited', 'American Mythology Productions',\n",
       "       'Charlton', 'Strip Art Features', 'Caliber Comics',\n",
       "       'Anglo-American Publishing Company Limited',\n",
       "       'Parents Magazine Press', 'Comic Art', 'Antimatter',\n",
       "       'Hanna-Barbera', 'Fantagor Press', 'Bloomsbury Publishing',\n",
       "       'Unknown Publisher', 'KiZoic', 'Chapterhouse Comics', 'EC',\n",
       "       'Papercutz', 'Warner Brothers', 'Andrews McMeel Publishing',\n",
       "       'Furio Viano Editore', \"Devil's Due\", 'Star Comics (US)',\n",
       "       'Whitman', 'Boom! Studios', 'Icon Comics', 'Focus', 'Egmont',\n",
       "       'Pines Publishing', 'Ape Entertainment', 'Red Eagle Entertainment',\n",
       "       'Shogakukan', 'Mattel', 'Ace Magazines', 'Tower',\n",
       "       \"America's Best Comics\", 'Ediperiodici', 'Victor Gollancz Ltd.',\n",
       "       'Abstract Studio', 'Dargaud', 'Eura Editoriale', 'Soleil',\n",
       "       'Sergio Bonelli Editore', 'Capcom', 'Edizioni Star Comics',\n",
       "       'Arnoldo Mondadori Editore', 'Dupuis', 'Raben & Sjögren',\n",
       "       'Random House', 'Le Lombard', 'Cross Cult', 'Modern',\n",
       "       'Jeunesse Joyeuse', 'Hasbro', 'Ediciones Colihue',\n",
       "       'TidalWave Productions', 'Fluide Glacial', 'Alias Enterprises',\n",
       "       'Armada', 'IPC Magazines Ltd.', 'New Worlds Comics',\n",
       "       'American Comics Group', 'Comico', 'Vortex Comics', 'Now Comics',\n",
       "       'Marc Hansen Stuff', 'Scholastic Book Services', 'Tribune Company',\n",
       "       'Major Magazines', 'Red 5 Comics', 'Shooting Star', 'Fahrenheit',\n",
       "       'Atlantic Förlag', 'Carlsen Comics', 'Wallace Wood',\n",
       "       'Glenat Italia', 'Big Bang Comics', 'Quality Communications',\n",
       "       'Marvel UK', 'Exploding Albatross Funnybooks', 'Black Bull',\n",
       "       'Cross Publications', 'Atlantis Studios', 'Darkstorm Comics',\n",
       "       'Oni Press', 'Big City Comics', 'Novelty Press', 'Helix',\n",
       "       'Casterman', 'A.M. Works', 'Skywald', 'Timely', 'Lev Gleason',\n",
       "       'Spark Publications', 'Toby', 'Sega', 'Rip Off Press', 'Warren',\n",
       "       'NBM', 'Eurotica', 'Last Gasp', 'Apocalypse', 'Epic',\n",
       "       'Maximum Press', 'Heavy Metal', 'Blackout', 'Realm Press',\n",
       "       'Continuity', 'Great Big Comics', 'Spectrum Comics',\n",
       "       'Lightning Comics', 'Boundless Comics',\n",
       "       'Webs Adventure Corporation', 'Archaia', 'TSR',\n",
       "       'Sirius Entertainment', 'Norma Editorial', 'Penthouse Comics',\n",
       "       'Kodansha', 'Toutain Editor', 'Rizzoli Lizard', 'Genesis West',\n",
       "       'David McKay', 'Trojan', 'Columbia Comics', 'Prize', 'Atlas',\n",
       "       'Lightspeed Press', \"St. Martin's Press\", 'Comedy Central',\n",
       "       'Event Comics', 'Impact', 'Street And Smith', 'Fleetway',\n",
       "       'Williams Förlag', 'E Train', 'Max Bunker Press', 'Cliffhanger',\n",
       "       'Square Enix', 'Konami', 'Schibsted', 'Milestone',\n",
       "       'Icarus Publications', 'Dabel Brothers Productions',\n",
       "       'Golfing / McCombs', 'Monsterverse', 'Shueisha', 'Atlas Comics',\n",
       "       'Vantage', 'Red Circle', 'Aspen MLT', 'Short Fuse Media Group',\n",
       "       'Millennium Publications', 'Arcana Studio', 'Renegade Press',\n",
       "       'Moonstone', 'Formatic', 'Coalition Comics',\n",
       "       'Les Humanoïdes Associés', 'Windjammer', 'Sugar Skull Media',\n",
       "       'Mirage', 'Delcourt', 'Kitchen Sink', 'Epix', 'Bladkompaniet As',\n",
       "       'Albin Michel', 'Deadline Publications Ltd.',\n",
       "       'Ediciones De La Urraca S.A.', 'Sanoma Uitgevers',\n",
       "       'Éditions Glénat', 'Uitgeverij C.I.C.', 'SQP', 'Coniglio Editore',\n",
       "       'Politisk Revy', 'Magic Strip', 'Big Balloon',\n",
       "       'Baldini Castoldi Dalai Editore', 'Hakusensha', 'Verotik',\n",
       "       'Tokuma Shoten', '3ntini Editore', 'Ajax-Farrell',\n",
       "       'Anarchy Studios', 'Astorina', 'Pantheon Books',\n",
       "       'London Night Studios', 'Ardden Entertainment',\n",
       "       'Aircel Publishing', 'Virgin Comics', 'Claypool Comics',\n",
       "       'Walt Disney Company Italia', 'Ponzoni Editore', 'Aardvark',\n",
       "       'Sin Factory Comix', 'Arrow', 'Futabasha Publishers Ltd.',\n",
       "       'General Electric Company', 'Dynamite (France)',\n",
       "       'George A. Pflaum', 'Cyclone Comics', 'Broadway',\n",
       "       'Drawn & Quarterly', 'Piranha Press', 'Edifumetto', 'Black Eye',\n",
       "       'Tezuka Productions', 'Opus Comics', 'Shanda Fantasy Arts',\n",
       "       'RCS MediaGroup', 'Action Lab', 'Pughouse Press', 'Cartoon Books',\n",
       "       'Crusade', 'Enterbrain', 'Mulehide Graphics', 'Full Bleed Studios',\n",
       "       'Ubisoft Entertainment', 'Express Newspapers', 'Amalgam Comics',\n",
       "       'Corriere Della Sera', 'Casa Editrice Universo',\n",
       "       'Wizards of the Coast', 'Cry For Dawn Productions',\n",
       "       'Darkchylde Entertainment', 'ASCII Media Works', 'Sterling Comics',\n",
       "       'Amryl Entertainment', 'Nickel Editions', 'Dolmen Editorial',\n",
       "       'Star Reach Publications', 'Zen Comics Publishing', 'Astro Comics',\n",
       "       'Peregrine Entertainment', 'Defiant',\n",
       "       'Register and Tribune Syndicate', 'Games Workshop',\n",
       "       'Blizzard Entertainment', 'Tokyopop', 'Editions Lug', 'Polystyle',\n",
       "       'Felix Comics Inc.', 'Tundra', 'Top Shelf', 'Asylum Press',\n",
       "       'Mark 1 Comics', 'King Hell', 'Capital Comics', 'Com.X', 'A-Plus',\n",
       "       'Thoughts & Images', 'Comic Media', 'Arboris',\n",
       "       'Dark Circle Comics', 'Panini Comics', 'Archie Adventure Series',\n",
       "       'Ediciones El Jueves', 'American Visuals Corporation',\n",
       "       'Ediciones Record', 'Pelican Publications', 'Tangent Comics',\n",
       "       'ALL CAPS COMICS', 'Sony Publishing', 'Standaard Uitgeverij',\n",
       "       'MonkeyBrain Comics', 'Bantam Books', 'Broadsword Comics',\n",
       "       'Bonniers Juniorförlag', 'Alterna Comics', 'Semic International',\n",
       "       'Carnal Comics', 'Red Anvil Comics', 'Asahi Sonorama',\n",
       "       'Harris Comics', 'Publistrip', 'Desantix', 'M. F. Enterprises',\n",
       "       \"L'Isola Trovata\", 'Catalan Communications', 'I.W. Publishing',\n",
       "       'Tekno Comix', 'Street and Steel', 'New England Comics',\n",
       "       'AK Comics', 'ABC Studios', 'Awesome Comics', 'Kadokawa Shoten',\n",
       "       'Shinshokan', 'Chick Publications', 'Paramount Pictures',\n",
       "       'Rat Race Comix', 'Berserker Comics', 'Shōnen Gahōsha',\n",
       "       'Nickelodeon', 'Titan Magazines', 'Evil Ink Comics',\n",
       "       'Apex Comics Group', 'Aftershock Comics', 'AiT/Planet Lar',\n",
       "       'Tsuburaya Productions ', 'Titan Books', 'Digital Webbing',\n",
       "       'Arsenic Lullaby Publishing', 'ST Publications',\n",
       "       'Fishwrap Production', 'Akita Shoten', 'Burlyman Entertainment',\n",
       "       'NBC Studios', 'Fireman Press LTD.', 'CFW Enterprises',\n",
       "       'Desperado Publishing', 'Drumfish Productions', 'Daewon C.I.',\n",
       "       'Wani Books', 'Nowa Fantastyka', 'Fujimi Shobo',\n",
       "       'New Comics Group', 'HorrorHound Ltd.', '360ep',\n",
       "       'Fenickx Productions', \"Brett's Comic Pile Publishing\",\n",
       "       'Absolute Tyrant', 'Fat Man Press', 'Centaur',\n",
       "       'Ace Publications Inc', 'Lego', 'Bandai Entertainment',\n",
       "       'Cherry Comics', 'Elite Comics', 'Innovation', 'Atomeka Press',\n",
       "       'Seven Seas Entertainment', 'Bodog', 'El Capitan', 'AAA Pop',\n",
       "       'Lone Star Press', 'Dead Numbat Productions', 'self published',\n",
       "       'Scout Comics', 'Platinum Studios Comics', 'Adventure',\n",
       "       'Paper Street Comics', 'Possum Press', 'Angry Viking Press',\n",
       "       'Mag Garden', 'Eternal', 'RAK Graphics', 'Noble Comics',\n",
       "       'Ambrosia Publishing', 'Markosia', 'Dial \"C\" for Comics',\n",
       "       'DeadBox Art Studio', 'Morning Star Productions',\n",
       "       'United Plankton Pictures', 'Cross Plains Comics', 'Triumphant',\n",
       "       'BeGoths Comics', 'Chuang Yi', 'Down Comix', 'Blue King Studios',\n",
       "       'Spacedog', 'Hays Entertainment', 'Creature Entertainment',\n",
       "       'Endless Horizons Entertainment', 'MVCreations', 'DQU COMICS',\n",
       "       'Zuda Comics', 'Black Library', \"Kellogg's\", 'Radical Publishing',\n",
       "       'Editora Trama', 'Uisila Comics', 'Pinnacle Comics',\n",
       "       'Catastrophic Comics', 'Apparat', 'Penguin Group', 'Future Comics',\n",
       "       'Orin Books', 'A Wave Blue World', 'Circle Media', 'Ronin Studios',\n",
       "       'First Second Books', 'HarperCollins', 'Oberon BV',\n",
       "       'Flaming Face Productions', 'Dark Ocean Studios',\n",
       "       'Approbation Comics', 'Human Fly International',\n",
       "       'Producciones HM (Hernández-Medina)', 'Martin L. Greim',\n",
       "       'XL Creations', 'Eternity', 'London Editions Magazines',\n",
       "       'Viper Comics', 'Ziff-Davis', 'Eastern Color',\n",
       "       'Azteca Productions', 'Chanting Monks Studios', 'Speakeasy Comics',\n",
       "       'Catfish Comics', 'Promotora K', 'Editorial Toukan',\n",
       "       'SG Arte Visual', 'Hexagon Comics', 'Rural Home', 'Ace Comics',\n",
       "       'Christian Knight Comics', 'Airship Entertainment',\n",
       "       'Gilberton Publications', 'Yen Press', 'Digital Manga Publishing',\n",
       "       'Hero Universe', 'Editorial AGA', 'Raj Comics', 'Lodestone',\n",
       "       'Olympian Publishing', 'Craf Publishers', 'Channel M', 'Del Rey',\n",
       "       'Dreamwave Productions', 'Shinchosha', 'inZane Comics',\n",
       "       'Infinity Comics', 'Edizioni Alpe', 'Green Publishing',\n",
       "       'Abrams ComicArts', 'Emmetre Edizioni', 'Brain Scan Studios',\n",
       "       'McK Publishing', 'If Edizioni', 'Editoriale Corno',\n",
       "       'Editrice Cenisio', 'Edizioni San Paolo', 'Editormex Mexicana',\n",
       "       'Editorial Televisa', 'Ivaldi Editore', 'Ediciones de la Flor',\n",
       "       'Abril', 'Aaaahh! Comics', 'Basement Comics',\n",
       "       'Casa Editrice Dardo', 'Graton Editeur', 'Juvee Comics',\n",
       "       'Editions Vaillant', 'Franco Cosimo Panini',\n",
       "       \"La Repubblica / L'Espresso\", 'Ballantine Books', 'ComicsOne',\n",
       "       'Capstone Press', 'High Impact Entertainment', '12-Gauge Comics',\n",
       "       'Odyssey Comics', 'Immortelle Studios', 'Brainstorm',\n",
       "       'Lunar Studios', 'Sterling Publishing', 'Liberty',\n",
       "       'Pacific Comics', 'Tipografia M. Tomasina',\n",
       "       'Publicaciones Herrerias', 'Saint James', 'Legendary Comics',\n",
       "       'Milson', 'NFPA', 'Beta 3', 'Editions La Joie de Lire', 'C.A.P.',\n",
       "       'Mango Comics', 'Frew Publications', 'Atari', 'Dead Dog',\n",
       "       'Yoe Studio', 'Kenzer And Company', 'Devere Publishing',\n",
       "       'ADV Manga', 'ZOOLOOK', 'Great Publications', 'Hyperwerks',\n",
       "       'Pocket Books', 'Graphic Arts Service, Inc.',\n",
       "       'Stampa Alternativa / Nuovi Equilibri', \"McDonald's Corporation\",\n",
       "       'T.R.I.B.E. Studio Comics', 'Esteem Comics', 'First Salvo',\n",
       "       'Abominable Books', 'Mauricio de Sousa Produções', 'Bones',\n",
       "       'Active Images', 'Spilled Milk', 'Penny Farthing', 'Paquet',\n",
       "       'Maerkle Press', 'Primal Paper Comics', 'Bastei Verlag',\n",
       "       'Wild and Wooly Press', 'Personality Comics',\n",
       "       'Anti-Ballistic Pixelations', 'False Idol Studios',\n",
       "       'Hamilton Comics', 'Entity', 'Oktomica', 'Silverline',\n",
       "       'Raven Entertainment Studio', 'Chimaera Comics', 'Do Gooder Press',\n",
       "       'Dark Elf Designs', 'Mighty Pumpkin', 'Teshkeel Comics',\n",
       "       'Play Press', 'Th3rd World Studios', 'Big Dog Ink', 'Best Destiny',\n",
       "       'DrMaster Publications Inc.', 'Hound Comics', 'Studio Foglio',\n",
       "       'Hamster Press', 'Mind Wave Comics'], dtype=object)"
      ]
     },
     "execution_count": 20,
     "metadata": {},
     "output_type": "execute_result"
    }
   ],
   "source": [
    "df['publisher'].unique()"
   ]
  },
  {
   "cell_type": "code",
   "execution_count": 21,
   "metadata": {},
   "outputs": [
    {
     "data": {
      "text/plain": [
       "array(['Alien', 'Human', 'Radiation', 'Mutant', 'Animal', 'Robot',\n",
       "       'Other', 'Cyborg', 'God/Eternal', 'Infection'], dtype=object)"
      ]
     },
     "execution_count": 21,
     "metadata": {},
     "output_type": "execute_result"
    }
   ],
   "source": [
    "df['origin'].unique()"
   ]
  },
  {
   "cell_type": "markdown",
   "metadata": {},
   "source": [
    "Standardized Text Formatting"
   ]
  },
  {
   "cell_type": "code",
   "execution_count": 23,
   "metadata": {},
   "outputs": [],
   "source": [
    "df['publisher'] = df['publisher'].str.strip()\n",
    "df['origin'] = df['origin'].str.strip()\n"
   ]
  },
  {
   "cell_type": "markdown",
   "metadata": {},
   "source": [
    "### 5. Data Transformation\n",
    "- Categorize Publishers:\n",
    "    - To analyze the influence of major versus independent publishers, categorize the publishers accordingly\n",
    "    - Identify major publishers based on their frequency in the dataset\n",
    "    - Create a new column publisher_category\n",
    "    - Assign major to major publishers and independent to others"
   ]
  },
  {
   "cell_type": "code",
   "execution_count": null,
   "metadata": {},
   "outputs": [
    {
     "name": "stdout",
     "output_type": "stream",
     "text": [
      "publisher\n",
      "marvel                        10921\n",
      "dc comics                      8987\n",
      "vertigo                        2154\n",
      "dark horse comics              1808\n",
      "non-fictional                  1640\n",
      "                              ...  \n",
      "nfpa                              1\n",
      "anti-ballistic pixelations        1\n",
      "hound comics                      1\n",
      "hamster press                     1\n",
      "mind wave comics                  1\n",
      "Name: count, Length: 580, dtype: int64\n"
     ]
    }
   ],
   "source": [
    "# Count occurrences of each publisher\n",
    "publisher_counts = df['publisher'].value_counts()\n",
    "print(publisher_counts)"
   ]
  },
  {
   "cell_type": "markdown",
   "metadata": {},
   "source": [
    "### 5.2 Identify major publishers based on their frequency in the dataset"
   ]
  },
  {
   "cell_type": "code",
   "execution_count": 30,
   "metadata": {},
   "outputs": [
    {
     "name": "stdout",
     "output_type": "stream",
     "text": [
      "publisher\n",
      "marvel                     10921\n",
      "dc comics                   8987\n",
      "vertigo                     2154\n",
      "dark horse comics           1808\n",
      "non-fictional               1640\n",
      "in the public domain        1397\n",
      "disney                      1365\n",
      "image                       1272\n",
      "idw publishing              1221\n",
      "wildstorm                    848\n",
      "shueisha                     825\n",
      "rebellion                    493\n",
      "top cow                      467\n",
      "dynamite entertainment       377\n",
      "nintendo                     348\n",
      "kodansha                     306\n",
      "crossgen                     253\n",
      "archie comics                249\n",
      "malibu                       238\n",
      "capcom                       235\n",
      "valiant                      229\n",
      "bongo                        212\n",
      "boom! studios                211\n",
      "newspaper: funny pages       174\n",
      "amalgam comics               167\n",
      "comico                       163\n",
      "dargaud                      161\n",
      "america's best comics        158\n",
      "skybound                     156\n",
      "devil's due                  155\n",
      "antarctic press              155\n",
      "snk playmore                 148\n",
      "ac comics                    145\n",
      "charlton                     145\n",
      "fantagraphics                142\n",
      "hasbro                       140\n",
      "dell                         140\n",
      "avatar press                 137\n",
      "warp graphics                134\n",
      "chaos! comics                126\n",
      "square enix                  123\n",
      "gold key                     117\n",
      "hakusensha                   115\n",
      "king features syndicate      114\n",
      "eclipse                      110\n",
      "egmont                       109\n",
      "harvey                       108\n",
      "oni press                    107\n",
      "sirius entertainment         104\n",
      "penthouse comics             103\n",
      "new england comics           102\n",
      "Name: count, dtype: int64\n"
     ]
    }
   ],
   "source": [
    "# Filter for publishers with counts greater than 50\n",
    "major_publishers = publisher_counts[publisher_counts > 100]\n",
    "\n",
    "# Print the result\n",
    "print(major_publishers)"
   ]
  },
  {
   "cell_type": "code",
   "execution_count": 31,
   "metadata": {},
   "outputs": [
    {
     "name": "stdout",
     "output_type": "stream",
     "text": [
      "['marvel', 'dc comics', 'vertigo', 'dark horse comics', 'non-fictional', 'in the public domain', 'disney', 'image', 'idw publishing', 'wildstorm', 'shueisha', 'rebellion', 'top cow', 'dynamite entertainment', 'nintendo', 'kodansha', 'crossgen', 'archie comics', 'malibu', 'capcom', 'valiant', 'bongo', 'boom! studios', 'newspaper: funny pages', 'amalgam comics', 'comico', 'dargaud', \"america's best comics\", 'skybound', \"devil's due\", 'antarctic press', 'snk playmore', 'ac comics', 'charlton', 'fantagraphics', 'hasbro', 'dell', 'avatar press', 'warp graphics', 'chaos! comics', 'square enix', 'gold key', 'hakusensha', 'king features syndicate', 'eclipse', 'egmont', 'harvey', 'oni press', 'sirius entertainment', 'penthouse comics', 'new england comics']\n"
     ]
    }
   ],
   "source": [
    "print(major_publishers.index.tolist())  # Get unique publisher names as a list"
   ]
  },
  {
   "cell_type": "markdown",
   "metadata": {},
   "source": [
    "### 5.3 Create a new column publisher_category and Assign major to major publishers and independent to others"
   ]
  },
  {
   "cell_type": "code",
   "execution_count": 32,
   "metadata": {},
   "outputs": [],
   "source": [
    "df['publisher_category'] = df['publisher'].apply(lambda x: 'major' if x in major_publishers else 'independent')\n"
   ]
  },
  {
   "cell_type": "code",
   "execution_count": 33,
   "metadata": {},
   "outputs": [
    {
     "data": {
      "text/html": [
       "<div>\n",
       "<style scoped>\n",
       "    .dataframe tbody tr th:only-of-type {\n",
       "        vertical-align: middle;\n",
       "    }\n",
       "\n",
       "    .dataframe tbody tr th {\n",
       "        vertical-align: top;\n",
       "    }\n",
       "\n",
       "    .dataframe thead th {\n",
       "        text-align: right;\n",
       "    }\n",
       "</style>\n",
       "<table border=\"1\" class=\"dataframe\">\n",
       "  <thead>\n",
       "    <tr style=\"text-align: right;\">\n",
       "      <th></th>\n",
       "      <th>first_appeared_in_issue</th>\n",
       "      <th>name</th>\n",
       "      <th>origin</th>\n",
       "      <th>publisher</th>\n",
       "      <th>publisher_category</th>\n",
       "    </tr>\n",
       "  </thead>\n",
       "  <tbody>\n",
       "    <tr>\n",
       "      <th>0</th>\n",
       "      <td>The Legion of Super-Heroes</td>\n",
       "      <td>Lightning Lad</td>\n",
       "      <td>alien</td>\n",
       "      <td>dc comics</td>\n",
       "      <td>major</td>\n",
       "    </tr>\n",
       "    <tr>\n",
       "      <th>1</th>\n",
       "      <td>The Menace of Dream Girl!</td>\n",
       "      <td>Dream Girl</td>\n",
       "      <td>alien</td>\n",
       "      <td>dc comics</td>\n",
       "      <td>major</td>\n",
       "    </tr>\n",
       "    <tr>\n",
       "      <th>2</th>\n",
       "      <td>The War Between Supergirl and The Supermen Eme...</td>\n",
       "      <td>Brainiac 5</td>\n",
       "      <td>alien</td>\n",
       "      <td>dc comics</td>\n",
       "      <td>major</td>\n",
       "    </tr>\n",
       "    <tr>\n",
       "      <th>3</th>\n",
       "      <td>Hercules in the 20th Century!</td>\n",
       "      <td>Invisible Kid</td>\n",
       "      <td>human</td>\n",
       "      <td>dc comics</td>\n",
       "      <td>major</td>\n",
       "    </tr>\n",
       "    <tr>\n",
       "      <th>4</th>\n",
       "      <td>The War Between Supergirl and The Supermen Eme...</td>\n",
       "      <td>Phantom Girl</td>\n",
       "      <td>alien</td>\n",
       "      <td>dc comics</td>\n",
       "      <td>major</td>\n",
       "    </tr>\n",
       "  </tbody>\n",
       "</table>\n",
       "</div>"
      ],
      "text/plain": [
       "                             first_appeared_in_issue           name origin  \\\n",
       "0                         The Legion of Super-Heroes  Lightning Lad  alien   \n",
       "1                          The Menace of Dream Girl!     Dream Girl  alien   \n",
       "2  The War Between Supergirl and The Supermen Eme...     Brainiac 5  alien   \n",
       "3                      Hercules in the 20th Century!  Invisible Kid  human   \n",
       "4  The War Between Supergirl and The Supermen Eme...   Phantom Girl  alien   \n",
       "\n",
       "   publisher publisher_category  \n",
       "0  dc comics              major  \n",
       "1  dc comics              major  \n",
       "2  dc comics              major  \n",
       "3  dc comics              major  \n",
       "4  dc comics              major  "
      ]
     },
     "execution_count": 33,
     "metadata": {},
     "output_type": "execute_result"
    }
   ],
   "source": [
    "df.head()"
   ]
  },
  {
   "cell_type": "markdown",
   "metadata": {},
   "source": [
    "Verify Results -> Check the distribution"
   ]
  },
  {
   "cell_type": "code",
   "execution_count": 34,
   "metadata": {},
   "outputs": [
    {
     "name": "stdout",
     "output_type": "stream",
     "text": [
      "publisher_category\n",
      "major          39814\n",
      "independent     5410\n",
      "Name: count, dtype: int64\n"
     ]
    }
   ],
   "source": [
    "print(df['publisher_category'].value_counts())"
   ]
  },
  {
   "cell_type": "markdown",
   "metadata": {},
   "source": [
    "### 6. Exploratory Data Analysis (EDA)\n",
    "- Visualize the Distribution of Superhero Origins:\n",
    "    - Use a bar plot to visualize the distribution of superhero origins\n",
    "- Analyze Publisher Trends Over Time:\n",
    "    - If the first_appeared_in_issue column allows, explore how different publishers have introduced superheroes over time"
   ]
  },
  {
   "cell_type": "markdown",
   "metadata": {},
   "source": [
    "### 6.1  Visualizing the Distribution of Superhero Origins"
   ]
  },
  {
   "cell_type": "code",
   "execution_count": 35,
   "metadata": {},
   "outputs": [
    {
     "name": "stderr",
     "output_type": "stream",
     "text": [
      "/tmp/ipykernel_67056/2294109843.py:6: FutureWarning: \n",
      "\n",
      "Passing `palette` without assigning `hue` is deprecated and will be removed in v0.14.0. Assign the `x` variable to `hue` and set `legend=False` for the same effect.\n",
      "\n",
      "  sns.barplot(x=origin_counts.index, y=origin_counts.values, palette='viridis')\n"
     ]
    },
    {
     "data": {
      "image/png": "[encoded data removed]",
      "text/plain": [
       "<Figure size 1000x500 with 1 Axes>"
      ]
     },
     "metadata": {},
     "output_type": "display_data"
    }
   ],
   "source": [
    "\n",
    "# Count occurrences of each origin\n",
    "origin_counts = df['origin'].value_counts()\n",
    "\n",
    "# Plot the bar chart\n",
    "plt.figure(figsize=(10, 5))\n",
    "sns.barplot(x=origin_counts.index, y=origin_counts.values, palette='viridis')\n",
    "\n",
    "# Labels and title\n",
    "plt.xlabel('Superhero Origin', fontsize=12)\n",
    "plt.ylabel('Count', fontsize=12)\n",
    "plt.title('Distribution of Superhero Origins', fontsize=14)\n",
    "plt.xticks(rotation=45)\n",
    "plt.show()"
   ]
  },
  {
   "cell_type": "markdown",
   "metadata": {},
   "source": [
    "### 6.2  Analyzing Publisher Trends Over Time"
   ]
  },
  {
   "cell_type": "code",
   "execution_count": 36,
   "metadata": {},
   "outputs": [
    {
     "ename": "ValueError",
     "evalue": "Could not interpret value `Publisher` for `hue`. An entry with this name does not appear in `data`.",
     "output_type": "error",
     "traceback": [
      "\u001b[0;31m---------------------------------------------------------------------------\u001b[0m",
      "\u001b[0;31mValueError\u001b[0m                                Traceback (most recent call last)",
      "Cell \u001b[0;32mIn[36], line 7\u001b[0m\n\u001b[1;32m      4\u001b[0m publisher_trends \u001b[38;5;241m=\u001b[39m df\u001b[38;5;241m.\u001b[39mgroupby([\u001b[38;5;124m'\u001b[39m\u001b[38;5;124mfirst_appeared_in_issue\u001b[39m\u001b[38;5;124m'\u001b[39m, \u001b[38;5;124m'\u001b[39m\u001b[38;5;124mpublisher\u001b[39m\u001b[38;5;124m'\u001b[39m])\u001b[38;5;241m.\u001b[39msize()\u001b[38;5;241m.\u001b[39mreset_index(name\u001b[38;5;241m=\u001b[39m\u001b[38;5;124m'\u001b[39m\u001b[38;5;124mCount\u001b[39m\u001b[38;5;124m'\u001b[39m)\n\u001b[1;32m      6\u001b[0m \u001b[38;5;66;03m# Plot trends\u001b[39;00m\n\u001b[0;32m----> 7\u001b[0m \u001b[43msns\u001b[49m\u001b[38;5;241;43m.\u001b[39;49m\u001b[43mlineplot\u001b[49m\u001b[43m(\u001b[49m\u001b[43mdata\u001b[49m\u001b[38;5;241;43m=\u001b[39;49m\u001b[43mpublisher_trends\u001b[49m\u001b[43m,\u001b[49m\u001b[43m \u001b[49m\u001b[43mx\u001b[49m\u001b[38;5;241;43m=\u001b[39;49m\u001b[38;5;124;43m'\u001b[39;49m\u001b[38;5;124;43mfirst_appeared_in_issue\u001b[39;49m\u001b[38;5;124;43m'\u001b[39;49m\u001b[43m,\u001b[49m\u001b[43m \u001b[49m\u001b[43my\u001b[49m\u001b[38;5;241;43m=\u001b[39;49m\u001b[38;5;124;43m'\u001b[39;49m\u001b[38;5;124;43mCount\u001b[39;49m\u001b[38;5;124;43m'\u001b[39;49m\u001b[43m,\u001b[49m\u001b[43m \u001b[49m\u001b[43mhue\u001b[49m\u001b[38;5;241;43m=\u001b[39;49m\u001b[38;5;124;43m'\u001b[39;49m\u001b[38;5;124;43mPublisher\u001b[39;49m\u001b[38;5;124;43m'\u001b[39;49m\u001b[43m,\u001b[49m\u001b[43m \u001b[49m\u001b[43mmarker\u001b[49m\u001b[38;5;241;43m=\u001b[39;49m\u001b[38;5;124;43m\"\u001b[39;49m\u001b[38;5;124;43mo\u001b[39;49m\u001b[38;5;124;43m\"\u001b[39;49m\u001b[43m)\u001b[49m\n\u001b[1;32m      9\u001b[0m \u001b[38;5;66;03m# Labels and title\u001b[39;00m\n\u001b[1;32m     10\u001b[0m plt\u001b[38;5;241m.\u001b[39mxlabel(\u001b[38;5;124m'\u001b[39m\u001b[38;5;124mFirst Appearance in Issue\u001b[39m\u001b[38;5;124m'\u001b[39m, fontsize\u001b[38;5;241m=\u001b[39m\u001b[38;5;241m12\u001b[39m)\n",
      "File \u001b[0;32m~/.local/lib/python3.12/site-packages/seaborn/relational.py:485\u001b[0m, in \u001b[0;36mlineplot\u001b[0;34m(data, x, y, hue, size, style, units, weights, palette, hue_order, hue_norm, sizes, size_order, size_norm, dashes, markers, style_order, estimator, errorbar, n_boot, seed, orient, sort, err_style, err_kws, legend, ci, ax, **kwargs)\u001b[0m\n\u001b[1;32m    471\u001b[0m \u001b[38;5;28;01mdef\u001b[39;00m \u001b[38;5;21mlineplot\u001b[39m(\n\u001b[1;32m    472\u001b[0m     data\u001b[38;5;241m=\u001b[39m\u001b[38;5;28;01mNone\u001b[39;00m, \u001b[38;5;241m*\u001b[39m,\n\u001b[1;32m    473\u001b[0m     x\u001b[38;5;241m=\u001b[39m\u001b[38;5;28;01mNone\u001b[39;00m, y\u001b[38;5;241m=\u001b[39m\u001b[38;5;28;01mNone\u001b[39;00m, hue\u001b[38;5;241m=\u001b[39m\u001b[38;5;28;01mNone\u001b[39;00m, size\u001b[38;5;241m=\u001b[39m\u001b[38;5;28;01mNone\u001b[39;00m, style\u001b[38;5;241m=\u001b[39m\u001b[38;5;28;01mNone\u001b[39;00m, units\u001b[38;5;241m=\u001b[39m\u001b[38;5;28;01mNone\u001b[39;00m, weights\u001b[38;5;241m=\u001b[39m\u001b[38;5;28;01mNone\u001b[39;00m,\n\u001b[0;32m   (...)\u001b[0m\n\u001b[1;32m    481\u001b[0m \n\u001b[1;32m    482\u001b[0m     \u001b[38;5;66;03m# Handle deprecation of ci parameter\u001b[39;00m\n\u001b[1;32m    483\u001b[0m     errorbar \u001b[38;5;241m=\u001b[39m _deprecate_ci(errorbar, ci)\n\u001b[0;32m--> 485\u001b[0m     p \u001b[38;5;241m=\u001b[39m \u001b[43m_LinePlotter\u001b[49m\u001b[43m(\u001b[49m\n\u001b[1;32m    486\u001b[0m \u001b[43m        \u001b[49m\u001b[43mdata\u001b[49m\u001b[38;5;241;43m=\u001b[39;49m\u001b[43mdata\u001b[49m\u001b[43m,\u001b[49m\n\u001b[1;32m    487\u001b[0m \u001b[43m        \u001b[49m\u001b[43mvariables\u001b[49m\u001b[38;5;241;43m=\u001b[39;49m\u001b[38;5;28;43mdict\u001b[39;49m\u001b[43m(\u001b[49m\n\u001b[1;32m    488\u001b[0m \u001b[43m            \u001b[49m\u001b[43mx\u001b[49m\u001b[38;5;241;43m=\u001b[39;49m\u001b[43mx\u001b[49m\u001b[43m,\u001b[49m\u001b[43m \u001b[49m\u001b[43my\u001b[49m\u001b[38;5;241;43m=\u001b[39;49m\u001b[43my\u001b[49m\u001b[43m,\u001b[49m\u001b[43m \u001b[49m\u001b[43mhue\u001b[49m\u001b[38;5;241;43m=\u001b[39;49m\u001b[43mhue\u001b[49m\u001b[43m,\u001b[49m\u001b[43m \u001b[49m\u001b[43msize\u001b[49m\u001b[38;5;241;43m=\u001b[39;49m\u001b[43msize\u001b[49m\u001b[43m,\u001b[49m\u001b[43m \u001b[49m\u001b[43mstyle\u001b[49m\u001b[38;5;241;43m=\u001b[39;49m\u001b[43mstyle\u001b[49m\u001b[43m,\u001b[49m\u001b[43m \u001b[49m\u001b[43munits\u001b[49m\u001b[38;5;241;43m=\u001b[39;49m\u001b[43munits\u001b[49m\u001b[43m,\u001b[49m\u001b[43m \u001b[49m\u001b[43mweight\u001b[49m\u001b[38;5;241;43m=\u001b[39;49m\u001b[43mweights\u001b[49m\n\u001b[1;32m    489\u001b[0m \u001b[43m        \u001b[49m\u001b[43m)\u001b[49m\u001b[43m,\u001b[49m\n\u001b[1;32m    490\u001b[0m \u001b[43m        \u001b[49m\u001b[43mestimator\u001b[49m\u001b[38;5;241;43m=\u001b[39;49m\u001b[43mestimator\u001b[49m\u001b[43m,\u001b[49m\u001b[43m \u001b[49m\u001b[43mn_boot\u001b[49m\u001b[38;5;241;43m=\u001b[39;49m\u001b[43mn_boot\u001b[49m\u001b[43m,\u001b[49m\u001b[43m \u001b[49m\u001b[43mseed\u001b[49m\u001b[38;5;241;43m=\u001b[39;49m\u001b[43mseed\u001b[49m\u001b[43m,\u001b[49m\u001b[43m \u001b[49m\u001b[43merrorbar\u001b[49m\u001b[38;5;241;43m=\u001b[39;49m\u001b[43merrorbar\u001b[49m\u001b[43m,\u001b[49m\n\u001b[1;32m    491\u001b[0m \u001b[43m        \u001b[49m\u001b[43msort\u001b[49m\u001b[38;5;241;43m=\u001b[39;49m\u001b[43msort\u001b[49m\u001b[43m,\u001b[49m\u001b[43m \u001b[49m\u001b[43morient\u001b[49m\u001b[38;5;241;43m=\u001b[39;49m\u001b[43morient\u001b[49m\u001b[43m,\u001b[49m\u001b[43m \u001b[49m\u001b[43merr_style\u001b[49m\u001b[38;5;241;43m=\u001b[39;49m\u001b[43merr_style\u001b[49m\u001b[43m,\u001b[49m\u001b[43m \u001b[49m\u001b[43merr_kws\u001b[49m\u001b[38;5;241;43m=\u001b[39;49m\u001b[43merr_kws\u001b[49m\u001b[43m,\u001b[49m\n\u001b[1;32m    492\u001b[0m \u001b[43m        \u001b[49m\u001b[43mlegend\u001b[49m\u001b[38;5;241;43m=\u001b[39;49m\u001b[43mlegend\u001b[49m\u001b[43m,\u001b[49m\n\u001b[1;32m    493\u001b[0m \u001b[43m    \u001b[49m\u001b[43m)\u001b[49m\n\u001b[1;32m    495\u001b[0m     p\u001b[38;5;241m.\u001b[39mmap_hue(palette\u001b[38;5;241m=\u001b[39mpalette, order\u001b[38;5;241m=\u001b[39mhue_order, norm\u001b[38;5;241m=\u001b[39mhue_norm)\n\u001b[1;32m    496\u001b[0m     p\u001b[38;5;241m.\u001b[39mmap_size(sizes\u001b[38;5;241m=\u001b[39msizes, order\u001b[38;5;241m=\u001b[39msize_order, norm\u001b[38;5;241m=\u001b[39msize_norm)\n",
      "File \u001b[0;32m~/.local/lib/python3.12/site-packages/seaborn/relational.py:216\u001b[0m, in \u001b[0;36m_LinePlotter.__init__\u001b[0;34m(self, data, variables, estimator, n_boot, seed, errorbar, sort, orient, err_style, err_kws, legend)\u001b[0m\n\u001b[1;32m    202\u001b[0m \u001b[38;5;28;01mdef\u001b[39;00m \u001b[38;5;21m__init__\u001b[39m(\n\u001b[1;32m    203\u001b[0m     \u001b[38;5;28mself\u001b[39m, \u001b[38;5;241m*\u001b[39m,\n\u001b[1;32m    204\u001b[0m     data\u001b[38;5;241m=\u001b[39m\u001b[38;5;28;01mNone\u001b[39;00m, variables\u001b[38;5;241m=\u001b[39m{},\n\u001b[0;32m   (...)\u001b[0m\n\u001b[1;32m    210\u001b[0m     \u001b[38;5;66;03m# the kind of plot to draw, but for the time being we need to set\u001b[39;00m\n\u001b[1;32m    211\u001b[0m     \u001b[38;5;66;03m# this information so the SizeMapping can use it\u001b[39;00m\n\u001b[1;32m    212\u001b[0m     \u001b[38;5;28mself\u001b[39m\u001b[38;5;241m.\u001b[39m_default_size_range \u001b[38;5;241m=\u001b[39m (\n\u001b[1;32m    213\u001b[0m         np\u001b[38;5;241m.\u001b[39mr_[\u001b[38;5;241m.5\u001b[39m, \u001b[38;5;241m2\u001b[39m] \u001b[38;5;241m*\u001b[39m mpl\u001b[38;5;241m.\u001b[39mrcParams[\u001b[38;5;124m\"\u001b[39m\u001b[38;5;124mlines.linewidth\u001b[39m\u001b[38;5;124m\"\u001b[39m]\n\u001b[1;32m    214\u001b[0m     )\n\u001b[0;32m--> 216\u001b[0m     \u001b[38;5;28;43msuper\u001b[39;49m\u001b[43m(\u001b[49m\u001b[43m)\u001b[49m\u001b[38;5;241;43m.\u001b[39;49m\u001b[38;5;21;43m__init__\u001b[39;49m\u001b[43m(\u001b[49m\u001b[43mdata\u001b[49m\u001b[38;5;241;43m=\u001b[39;49m\u001b[43mdata\u001b[49m\u001b[43m,\u001b[49m\u001b[43m \u001b[49m\u001b[43mvariables\u001b[49m\u001b[38;5;241;43m=\u001b[39;49m\u001b[43mvariables\u001b[49m\u001b[43m)\u001b[49m\n\u001b[1;32m    218\u001b[0m     \u001b[38;5;28mself\u001b[39m\u001b[38;5;241m.\u001b[39mestimator \u001b[38;5;241m=\u001b[39m estimator\n\u001b[1;32m    219\u001b[0m     \u001b[38;5;28mself\u001b[39m\u001b[38;5;241m.\u001b[39merrorbar \u001b[38;5;241m=\u001b[39m errorbar\n",
      "File \u001b[0;32m~/.local/lib/python3.12/site-packages/seaborn/_base.py:634\u001b[0m, in \u001b[0;36mVectorPlotter.__init__\u001b[0;34m(self, data, variables)\u001b[0m\n\u001b[1;32m    629\u001b[0m \u001b[38;5;66;03m# var_ordered is relevant only for categorical axis variables, and may\u001b[39;00m\n\u001b[1;32m    630\u001b[0m \u001b[38;5;66;03m# be better handled by an internal axis information object that tracks\u001b[39;00m\n\u001b[1;32m    631\u001b[0m \u001b[38;5;66;03m# such information and is set up by the scale_* methods. The analogous\u001b[39;00m\n\u001b[1;32m    632\u001b[0m \u001b[38;5;66;03m# information for numeric axes would be information about log scales.\u001b[39;00m\n\u001b[1;32m    633\u001b[0m \u001b[38;5;28mself\u001b[39m\u001b[38;5;241m.\u001b[39m_var_ordered \u001b[38;5;241m=\u001b[39m {\u001b[38;5;124m\"\u001b[39m\u001b[38;5;124mx\u001b[39m\u001b[38;5;124m\"\u001b[39m: \u001b[38;5;28;01mFalse\u001b[39;00m, \u001b[38;5;124m\"\u001b[39m\u001b[38;5;124my\u001b[39m\u001b[38;5;124m\"\u001b[39m: \u001b[38;5;28;01mFalse\u001b[39;00m}  \u001b[38;5;66;03m# alt., used DefaultDict\u001b[39;00m\n\u001b[0;32m--> 634\u001b[0m \u001b[38;5;28;43mself\u001b[39;49m\u001b[38;5;241;43m.\u001b[39;49m\u001b[43massign_variables\u001b[49m\u001b[43m(\u001b[49m\u001b[43mdata\u001b[49m\u001b[43m,\u001b[49m\u001b[43m \u001b[49m\u001b[43mvariables\u001b[49m\u001b[43m)\u001b[49m\n\u001b[1;32m    636\u001b[0m \u001b[38;5;66;03m# TODO Lots of tests assume that these are called to initialize the\u001b[39;00m\n\u001b[1;32m    637\u001b[0m \u001b[38;5;66;03m# mappings to default values on class initialization. I'd prefer to\u001b[39;00m\n\u001b[1;32m    638\u001b[0m \u001b[38;5;66;03m# move away from that and only have a mapping when explicitly called.\u001b[39;00m\n\u001b[1;32m    639\u001b[0m \u001b[38;5;28;01mfor\u001b[39;00m var \u001b[38;5;129;01min\u001b[39;00m [\u001b[38;5;124m\"\u001b[39m\u001b[38;5;124mhue\u001b[39m\u001b[38;5;124m\"\u001b[39m, \u001b[38;5;124m\"\u001b[39m\u001b[38;5;124msize\u001b[39m\u001b[38;5;124m\"\u001b[39m, \u001b[38;5;124m\"\u001b[39m\u001b[38;5;124mstyle\u001b[39m\u001b[38;5;124m\"\u001b[39m]:\n",
      "File \u001b[0;32m~/.local/lib/python3.12/site-packages/seaborn/_base.py:679\u001b[0m, in \u001b[0;36mVectorPlotter.assign_variables\u001b[0;34m(self, data, variables)\u001b[0m\n\u001b[1;32m    674\u001b[0m \u001b[38;5;28;01melse\u001b[39;00m:\n\u001b[1;32m    675\u001b[0m     \u001b[38;5;66;03m# When dealing with long-form input, use the newer PlotData\u001b[39;00m\n\u001b[1;32m    676\u001b[0m     \u001b[38;5;66;03m# object (internal but introduced for the objects interface)\u001b[39;00m\n\u001b[1;32m    677\u001b[0m     \u001b[38;5;66;03m# to centralize / standardize data consumption logic.\u001b[39;00m\n\u001b[1;32m    678\u001b[0m     \u001b[38;5;28mself\u001b[39m\u001b[38;5;241m.\u001b[39minput_format \u001b[38;5;241m=\u001b[39m \u001b[38;5;124m\"\u001b[39m\u001b[38;5;124mlong\u001b[39m\u001b[38;5;124m\"\u001b[39m\n\u001b[0;32m--> 679\u001b[0m     plot_data \u001b[38;5;241m=\u001b[39m \u001b[43mPlotData\u001b[49m\u001b[43m(\u001b[49m\u001b[43mdata\u001b[49m\u001b[43m,\u001b[49m\u001b[43m \u001b[49m\u001b[43mvariables\u001b[49m\u001b[43m)\u001b[49m\n\u001b[1;32m    680\u001b[0m     frame \u001b[38;5;241m=\u001b[39m plot_data\u001b[38;5;241m.\u001b[39mframe\n\u001b[1;32m    681\u001b[0m     names \u001b[38;5;241m=\u001b[39m plot_data\u001b[38;5;241m.\u001b[39mnames\n",
      "File \u001b[0;32m~/.local/lib/python3.12/site-packages/seaborn/_core/data.py:58\u001b[0m, in \u001b[0;36mPlotData.__init__\u001b[0;34m(self, data, variables)\u001b[0m\n\u001b[1;32m     51\u001b[0m \u001b[38;5;28;01mdef\u001b[39;00m \u001b[38;5;21m__init__\u001b[39m(\n\u001b[1;32m     52\u001b[0m     \u001b[38;5;28mself\u001b[39m,\n\u001b[1;32m     53\u001b[0m     data: DataSource,\n\u001b[1;32m     54\u001b[0m     variables: \u001b[38;5;28mdict\u001b[39m[\u001b[38;5;28mstr\u001b[39m, VariableSpec],\n\u001b[1;32m     55\u001b[0m ):\n\u001b[1;32m     57\u001b[0m     data \u001b[38;5;241m=\u001b[39m handle_data_source(data)\n\u001b[0;32m---> 58\u001b[0m     frame, names, ids \u001b[38;5;241m=\u001b[39m \u001b[38;5;28;43mself\u001b[39;49m\u001b[38;5;241;43m.\u001b[39;49m\u001b[43m_assign_variables\u001b[49m\u001b[43m(\u001b[49m\u001b[43mdata\u001b[49m\u001b[43m,\u001b[49m\u001b[43m \u001b[49m\u001b[43mvariables\u001b[49m\u001b[43m)\u001b[49m\n\u001b[1;32m     60\u001b[0m     \u001b[38;5;28mself\u001b[39m\u001b[38;5;241m.\u001b[39mframe \u001b[38;5;241m=\u001b[39m frame\n\u001b[1;32m     61\u001b[0m     \u001b[38;5;28mself\u001b[39m\u001b[38;5;241m.\u001b[39mnames \u001b[38;5;241m=\u001b[39m names\n",
      "File \u001b[0;32m~/.local/lib/python3.12/site-packages/seaborn/_core/data.py:232\u001b[0m, in \u001b[0;36mPlotData._assign_variables\u001b[0;34m(self, data, variables)\u001b[0m\n\u001b[1;32m    230\u001b[0m     \u001b[38;5;28;01melse\u001b[39;00m:\n\u001b[1;32m    231\u001b[0m         err \u001b[38;5;241m+\u001b[39m\u001b[38;5;241m=\u001b[39m \u001b[38;5;124m\"\u001b[39m\u001b[38;5;124mAn entry with this name does not appear in `data`.\u001b[39m\u001b[38;5;124m\"\u001b[39m\n\u001b[0;32m--> 232\u001b[0m     \u001b[38;5;28;01mraise\u001b[39;00m \u001b[38;5;167;01mValueError\u001b[39;00m(err)\n\u001b[1;32m    234\u001b[0m \u001b[38;5;28;01melse\u001b[39;00m:\n\u001b[1;32m    235\u001b[0m \n\u001b[1;32m    236\u001b[0m     \u001b[38;5;66;03m# Otherwise, assume the value somehow represents data\u001b[39;00m\n\u001b[1;32m    237\u001b[0m \n\u001b[1;32m    238\u001b[0m     \u001b[38;5;66;03m# Ignore empty data structures\u001b[39;00m\n\u001b[1;32m    239\u001b[0m     \u001b[38;5;28;01mif\u001b[39;00m \u001b[38;5;28misinstance\u001b[39m(val, Sized) \u001b[38;5;129;01mand\u001b[39;00m \u001b[38;5;28mlen\u001b[39m(val) \u001b[38;5;241m==\u001b[39m \u001b[38;5;241m0\u001b[39m:\n",
      "\u001b[0;31mValueError\u001b[0m: Could not interpret value `Publisher` for `hue`. An entry with this name does not appear in `data`."
     ]
    },
    {
     "data": {
      "text/plain": [
       "<Figure size 1200x600 with 0 Axes>"
      ]
     },
     "metadata": {},
     "output_type": "display_data"
    }
   ],
   "source": [
    "plt.figure(figsize=(12, 6))\n",
    "\n",
    "# Count number of heroes introduced per year per publisher\n",
    "publisher_trends = df.groupby(['first_appeared_in_issue', 'publisher']).size().reset_index(name='Count')\n",
    "\n",
    "# Plot trends\n",
    "sns.lineplot(data=publisher_trends, x='first_appeared_in_issue', y='Count', hue='Publisher', marker=\"o\")\n",
    "\n",
    "# Labels and title\n",
    "plt.xlabel('First Appearance in Issue', fontsize=12)\n",
    "plt.ylabel('Number of Superheroes Introduced', fontsize=12)\n",
    "plt.title('Superhero Introductions Over Time by Publisher', fontsize=14)\n",
    "plt.legend(title=\"Publisher\", bbox_to_anchor=(1, 1))\n",
    "plt.grid(True)\n",
    "plt.show()\n"
   ]
  },
  {
   "cell_type": "code",
   "execution_count": null,
   "metadata": {},
   "outputs": [],
   "source": []
  }
 ],
 "metadata": {
  "kernelspec": {
   "display_name": "Python 3",
   "language": "python",
   "name": "python3"
  },
  "language_info": {
   "codemirror_mode": {
    "name": "ipython",
    "version": 3
   },
   "file_extension": ".py",
   "mimetype": "text/x-python",
   "name": "python",
   "nbconvert_exporter": "python",
   "pygments_lexer": "ipython3",
   "version": "3.12.1"
  }
 },
 "nbformat": 4,
 "nbformat_minor": 2
}
